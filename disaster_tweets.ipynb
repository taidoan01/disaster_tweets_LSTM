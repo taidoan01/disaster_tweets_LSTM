{
 "cells": [
  {
   "cell_type": "code",
   "execution_count": 1,
   "id": "ebadf1dc",
   "metadata": {},
   "outputs": [
    {
     "name": "stderr",
     "output_type": "stream",
     "text": [
      "2022-10-31 21:19:00.584615: I tensorflow/core/platform/cpu_feature_guard.cc:193] This TensorFlow binary is optimized with oneAPI Deep Neural Network Library (oneDNN) to use the following CPU instructions in performance-critical operations:  AVX2 FMA\n",
      "To enable them in other operations, rebuild TensorFlow with the appropriate compiler flags.\n"
     ]
    }
   ],
   "source": [
    "import pandas as pd\n",
    "import numpy as np\n",
    "import matplotlib.pyplot as plt\n",
    "import re\n",
    "import nltk\n",
    "from nltk.tokenize import word_tokenize\n",
    "from nltk.stem import WordNetLemmatizer\n",
    "from nltk.corpus import stopwords\n",
    "from sklearn.model_selection import train_test_split\n",
    "from tensorflow.keras.preprocessing.text import Tokenizer\n",
    "from tensorflow.keras.preprocessing.sequence import pad_sequences\n",
    "from tensorflow import keras"
   ]
  },
  {
   "cell_type": "code",
   "execution_count": 2,
   "id": "6455a82a",
   "metadata": {},
   "outputs": [],
   "source": [
    "training_data = pd.read_csv(\"disaster_dataset/train.csv\")\n",
    "testing_data = pd.read_csv(\"disaster_dataset/test.csv\")"
   ]
  },
  {
   "cell_type": "code",
   "execution_count": 3,
   "id": "c0b77701",
   "metadata": {},
   "outputs": [
    {
     "data": {
      "text/html": [
       "<div>\n",
       "<style scoped>\n",
       "    .dataframe tbody tr th:only-of-type {\n",
       "        vertical-align: middle;\n",
       "    }\n",
       "\n",
       "    .dataframe tbody tr th {\n",
       "        vertical-align: top;\n",
       "    }\n",
       "\n",
       "    .dataframe thead th {\n",
       "        text-align: right;\n",
       "    }\n",
       "</style>\n",
       "<table border=\"1\" class=\"dataframe\">\n",
       "  <thead>\n",
       "    <tr style=\"text-align: right;\">\n",
       "      <th></th>\n",
       "      <th>id</th>\n",
       "      <th>keyword</th>\n",
       "      <th>location</th>\n",
       "      <th>text</th>\n",
       "      <th>target</th>\n",
       "    </tr>\n",
       "  </thead>\n",
       "  <tbody>\n",
       "    <tr>\n",
       "      <th>6170</th>\n",
       "      <td>8800</td>\n",
       "      <td>sirens</td>\n",
       "      <td>828??864??803</td>\n",
       "      <td>@_DANGdaddy the sirens are telling you to get ...</td>\n",
       "      <td>0</td>\n",
       "    </tr>\n",
       "    <tr>\n",
       "      <th>6795</th>\n",
       "      <td>9734</td>\n",
       "      <td>tragedy</td>\n",
       "      <td>Canada</td>\n",
       "      <td>DTN India: Rly tragedy in MP: Some live to rec...</td>\n",
       "      <td>1</td>\n",
       "    </tr>\n",
       "  </tbody>\n",
       "</table>\n",
       "</div>"
      ],
      "text/plain": [
       "        id  keyword       location  \\\n",
       "6170  8800   sirens  828??864??803   \n",
       "6795  9734  tragedy         Canada   \n",
       "\n",
       "                                                   text  target  \n",
       "6170  @_DANGdaddy the sirens are telling you to get ...       0  \n",
       "6795  DTN India: Rly tragedy in MP: Some live to rec...       1  "
      ]
     },
     "execution_count": 3,
     "metadata": {},
     "output_type": "execute_result"
    }
   ],
   "source": [
    "training_data.sample(2)"
   ]
  },
  {
   "cell_type": "code",
   "execution_count": 4,
   "id": "605b713f",
   "metadata": {},
   "outputs": [
    {
     "data": {
      "text/plain": [
       "0"
      ]
     },
     "execution_count": 4,
     "metadata": {},
     "output_type": "execute_result"
    }
   ],
   "source": [
    "training_data['text'].isnull().sum()"
   ]
  },
  {
   "cell_type": "markdown",
   "id": "70a6eb73",
   "metadata": {},
   "source": [
    "- Text preprocessing "
   ]
  },
  {
   "cell_type": "code",
   "execution_count": 5,
   "id": "88189430",
   "metadata": {},
   "outputs": [],
   "source": [
    "#Convert the entire text into lower case\n",
    "training_data['new_text'] = training_data['text'].apply(lambda x:x.lower())"
   ]
  },
  {
   "cell_type": "code",
   "execution_count": 6,
   "id": "f6d8d9b9",
   "metadata": {},
   "outputs": [],
   "source": [
    "#Perform Lemmatization\n",
    "lemm=WordNetLemmatizer()"
   ]
  },
  {
   "cell_type": "code",
   "execution_count": 9,
   "id": "f44c7ad1",
   "metadata": {},
   "outputs": [
    {
     "name": "stderr",
     "output_type": "stream",
     "text": [
      "[nltk_data] Downloading package wordnet to /Users/tdoan/nltk_data...\n",
      "[nltk_data]   Package wordnet is already up-to-date!\n",
      "[nltk_data] Downloading package omw-1.4 to /Users/tdoan/nltk_data...\n"
     ]
    }
   ],
   "source": [
    "nltk.download('wordnet')\n",
    "nltk.download('omw-1.4')\n",
    "training_data['new_text'] = training_data['new_text'].apply(lambda x:lemm.lemmatize(x))"
   ]
  },
  {
   "cell_type": "code",
   "execution_count": 10,
   "id": "46de9590",
   "metadata": {},
   "outputs": [],
   "source": [
    "#Remove StopWords\n",
    "stop_words = stopwords.words(\"english\")\n",
    "\n",
    "def remove_stopwords(text):\n",
    "    no_stop = []\n",
    "    for word in text.split(' '):\n",
    "        if word not in stop_words:\n",
    "            no_stop.append(word)\n",
    "    return \" \".join(no_stop)"
   ]
  },
  {
   "cell_type": "code",
   "execution_count": 11,
   "id": "8c4fc80e",
   "metadata": {},
   "outputs": [],
   "source": [
    "training_data['new_text'] = training_data['new_text'].apply(remove_stopwords)"
   ]
  },
  {
   "cell_type": "code",
   "execution_count": 12,
   "id": "7028ad44",
   "metadata": {},
   "outputs": [],
   "source": [
    "#Remove unwanted text- Text Cleaning\n",
    "def clean_text(text):\n",
    "    text = re.sub(r'^RT[\\s]+', '', text)\n",
    "    text = re.sub(r'https?://[^\\s\\n\\r]+', '', text)\n",
    "    text = re.sub(r'#', '', text)\n",
    "    return text"
   ]
  },
  {
   "cell_type": "code",
   "execution_count": 13,
   "id": "9978d60f",
   "metadata": {},
   "outputs": [],
   "source": [
    "training_data['new_text'] = training_data['new_text'].apply(clean_text)"
   ]
  },
  {
   "cell_type": "code",
   "execution_count": 14,
   "id": "4a7b5a82",
   "metadata": {},
   "outputs": [],
   "source": [
    "# Removes all punctuation from a string, if present\n",
    "def remove_punctuation_func(text):\n",
    "    return re.sub(r'[^a-zA-Z0-9]', ' ', text)"
   ]
  },
  {
   "cell_type": "code",
   "execution_count": 15,
   "id": "56b09db7",
   "metadata": {},
   "outputs": [],
   "source": [
    "training_data['new_text'] = training_data['new_text'].apply(remove_punctuation_func)"
   ]
  },
  {
   "cell_type": "code",
   "execution_count": 16,
   "id": "4aa769a0",
   "metadata": {},
   "outputs": [
    {
     "data": {
      "text/html": [
       "<div>\n",
       "<style scoped>\n",
       "    .dataframe tbody tr th:only-of-type {\n",
       "        vertical-align: middle;\n",
       "    }\n",
       "\n",
       "    .dataframe tbody tr th {\n",
       "        vertical-align: top;\n",
       "    }\n",
       "\n",
       "    .dataframe thead th {\n",
       "        text-align: right;\n",
       "    }\n",
       "</style>\n",
       "<table border=\"1\" class=\"dataframe\">\n",
       "  <thead>\n",
       "    <tr style=\"text-align: right;\">\n",
       "      <th></th>\n",
       "      <th>id</th>\n",
       "      <th>keyword</th>\n",
       "      <th>location</th>\n",
       "      <th>text</th>\n",
       "      <th>target</th>\n",
       "      <th>new_text</th>\n",
       "    </tr>\n",
       "  </thead>\n",
       "  <tbody>\n",
       "    <tr>\n",
       "      <th>2275</th>\n",
       "      <td>3263</td>\n",
       "      <td>demolish</td>\n",
       "      <td>NaN</td>\n",
       "      <td>@kirkmin after listening to you demolish @Bart...</td>\n",
       "      <td>0</td>\n",
       "      <td>kirkmin listening demolish  barthubbuch  weei...</td>\n",
       "    </tr>\n",
       "    <tr>\n",
       "      <th>7212</th>\n",
       "      <td>10331</td>\n",
       "      <td>weapon</td>\n",
       "      <td>New York, NY</td>\n",
       "      <td>03/08/11: Police stop a 41-year-old in the Bro...</td>\n",
       "      <td>1</td>\n",
       "      <td>03 08 11  police stop 41 year old bronx citing...</td>\n",
       "    </tr>\n",
       "    <tr>\n",
       "      <th>4285</th>\n",
       "      <td>6088</td>\n",
       "      <td>hellfire</td>\n",
       "      <td>NaN</td>\n",
       "      <td>Hellfire is surrounded by desires so be carefu...</td>\n",
       "      <td>0</td>\n",
       "      <td>hellfire surrounded desires careful don   t le...</td>\n",
       "    </tr>\n",
       "    <tr>\n",
       "      <th>4583</th>\n",
       "      <td>6516</td>\n",
       "      <td>injuries</td>\n",
       "      <td>California or Colorado</td>\n",
       "      <td>Why is #GOP blocking chance for #DisabledVeter...</td>\n",
       "      <td>0</td>\n",
       "      <td>gop blocking chance disabledveterans w  groin ...</td>\n",
       "    </tr>\n",
       "    <tr>\n",
       "      <th>6202</th>\n",
       "      <td>8852</td>\n",
       "      <td>smoke</td>\n",
       "      <td>NaN</td>\n",
       "      <td>IM GONNA GET NAKED AND SMOKE MY CIGARETTE some...</td>\n",
       "      <td>0</td>\n",
       "      <td>im gonna get naked smoke cigarette someone cal...</td>\n",
       "    </tr>\n",
       "  </tbody>\n",
       "</table>\n",
       "</div>"
      ],
      "text/plain": [
       "         id   keyword                location  \\\n",
       "2275   3263  demolish                     NaN   \n",
       "7212  10331    weapon            New York, NY   \n",
       "4285   6088  hellfire                     NaN   \n",
       "4583   6516  injuries  California or Colorado   \n",
       "6202   8852     smoke                     NaN   \n",
       "\n",
       "                                                   text  target  \\\n",
       "2275  @kirkmin after listening to you demolish @Bart...       0   \n",
       "7212  03/08/11: Police stop a 41-year-old in the Bro...       1   \n",
       "4285  Hellfire is surrounded by desires so be carefu...       0   \n",
       "4583  Why is #GOP blocking chance for #DisabledVeter...       0   \n",
       "6202  IM GONNA GET NAKED AND SMOKE MY CIGARETTE some...       0   \n",
       "\n",
       "                                               new_text  \n",
       "2275   kirkmin listening demolish  barthubbuch  weei...  \n",
       "7212  03 08 11  police stop 41 year old bronx citing...  \n",
       "4285  hellfire surrounded desires careful don   t le...  \n",
       "4583  gop blocking chance disabledveterans w  groin ...  \n",
       "6202  im gonna get naked smoke cigarette someone cal...  "
      ]
     },
     "execution_count": 16,
     "metadata": {},
     "output_type": "execute_result"
    }
   ],
   "source": [
    "training_data.sample(5)"
   ]
  },
  {
   "cell_type": "markdown",
   "id": "6c5ead2a",
   "metadata": {},
   "source": [
    "- Define Feature and Target to train a model"
   ]
  },
  {
   "cell_type": "code",
   "execution_count": 17,
   "id": "3aaab0f9",
   "metadata": {},
   "outputs": [],
   "source": [
    "X = training_data['new_text']"
   ]
  },
  {
   "cell_type": "code",
   "execution_count": 18,
   "id": "f1d7f005",
   "metadata": {},
   "outputs": [],
   "source": [
    "y = training_data['target']"
   ]
  },
  {
   "cell_type": "code",
   "execution_count": 19,
   "id": "7742d374",
   "metadata": {},
   "outputs": [
    {
     "data": {
      "text/plain": [
       "array([0, 1])"
      ]
     },
     "execution_count": 19,
     "metadata": {},
     "output_type": "execute_result"
    }
   ],
   "source": [
    "np.unique(y)"
   ]
  },
  {
   "cell_type": "markdown",
   "id": "309f5508",
   "metadata": {},
   "source": [
    "- Text Preparation to train Model"
   ]
  },
  {
   "cell_type": "code",
   "execution_count": 20,
   "id": "1224b6c1",
   "metadata": {},
   "outputs": [],
   "source": [
    "token = Tokenizer(num_words=10000,oov_token=\"<OOV>\")"
   ]
  },
  {
   "cell_type": "code",
   "execution_count": 21,
   "id": "b3015725",
   "metadata": {},
   "outputs": [],
   "source": [
    "token.fit_on_texts(X)"
   ]
  },
  {
   "cell_type": "code",
   "execution_count": 22,
   "id": "407b5f05",
   "metadata": {},
   "outputs": [],
   "source": [
    "word_index = token.word_index"
   ]
  },
  {
   "cell_type": "code",
   "execution_count": 23,
   "id": "e31f3fb3",
   "metadata": {},
   "outputs": [],
   "source": [
    "training_seq = token.texts_to_sequences(X)"
   ]
  },
  {
   "cell_type": "code",
   "execution_count": 24,
   "id": "5609c2c2",
   "metadata": {},
   "outputs": [],
   "source": [
    "train_padded = pad_sequences(training_seq,padding=\"post\",truncating=\"post\",maxlen=50)"
   ]
  },
  {
   "cell_type": "markdown",
   "id": "334fbdc5",
   "metadata": {},
   "source": [
    "- Split the Data into Training and Validation"
   ]
  },
  {
   "cell_type": "code",
   "execution_count": 25,
   "id": "e62cc438",
   "metadata": {},
   "outputs": [],
   "source": [
    "X_train,X_valid,y_train,y_valid = train_test_split(train_padded,y,test_size=0.2,train_size=0.8)"
   ]
  },
  {
   "cell_type": "markdown",
   "id": "32a9f3f1",
   "metadata": {},
   "source": [
    "- LSTM"
   ]
  },
  {
   "cell_type": "code",
   "execution_count": 26,
   "id": "e2576433",
   "metadata": {},
   "outputs": [
    {
     "name": "stderr",
     "output_type": "stream",
     "text": [
      "2022-10-31 21:32:37.042806: I tensorflow/core/platform/cpu_feature_guard.cc:193] This TensorFlow binary is optimized with oneAPI Deep Neural Network Library (oneDNN) to use the following CPU instructions in performance-critical operations:  AVX2 FMA\n",
      "To enable them in other operations, rebuild TensorFlow with the appropriate compiler flags.\n"
     ]
    }
   ],
   "source": [
    "model = keras.models.Sequential()\n",
    "model.add(keras.layers.Embedding(10000,128))\n",
    "model.add(keras.layers.Bidirectional(keras.layers.LSTM(64,return_sequences=True)))\n",
    "model.add(keras.layers.Bidirectional(keras.layers.LSTM(64)))\n",
    "model.add(keras.layers.Dense(128,activation=\"relu\"))\n",
    "model.add(keras.layers.Dropout(0.4))\n",
    "model.add(keras.layers.Dense(1,activation=\"sigmoid\"))"
   ]
  },
  {
   "cell_type": "code",
   "execution_count": 27,
   "id": "c5bf1fbf",
   "metadata": {},
   "outputs": [],
   "source": [
    "model.compile(\"rmsprop\", \"binary_crossentropy\", metrics=[\"accuracy\"])"
   ]
  },
  {
   "cell_type": "code",
   "execution_count": 28,
   "id": "5df008c1",
   "metadata": {},
   "outputs": [
    {
     "name": "stdout",
     "output_type": "stream",
     "text": [
      "Epoch 1/5\n",
      "191/191 [==============================] - 35s 138ms/step - loss: 0.5305 - accuracy: 0.7358 - val_loss: 0.4679 - val_accuracy: 0.7820\n",
      "Epoch 2/5\n",
      "191/191 [==============================] - 25s 131ms/step - loss: 0.3675 - accuracy: 0.8450 - val_loss: 0.4343 - val_accuracy: 0.8070\n",
      "Epoch 3/5\n",
      "191/191 [==============================] - 25s 132ms/step - loss: 0.3126 - accuracy: 0.8783 - val_loss: 0.4541 - val_accuracy: 0.8004\n",
      "Epoch 4/5\n",
      "191/191 [==============================] - 24s 124ms/step - loss: 0.2701 - accuracy: 0.8992 - val_loss: 0.4846 - val_accuracy: 0.7932\n",
      "Epoch 5/5\n",
      "191/191 [==============================] - 24s 125ms/step - loss: 0.2255 - accuracy: 0.9179 - val_loss: 0.5192 - val_accuracy: 0.7859\n"
     ]
    }
   ],
   "source": [
    "history = model.fit(X_train,y_train,epochs=5,validation_data=(X_valid,y_valid))"
   ]
  },
  {
   "cell_type": "markdown",
   "id": "57e33b46",
   "metadata": {},
   "source": [
    "- Visualize Loss and Accuracy Tradeoff"
   ]
  },
  {
   "cell_type": "code",
   "execution_count": 29,
   "id": "93648d1e",
   "metadata": {},
   "outputs": [
    {
     "data": {
      "text/plain": [
       "<matplotlib.legend.Legend at 0x7f926288a520>"
      ]
     },
     "execution_count": 29,
     "metadata": {},
     "output_type": "execute_result"
    },
    {
     "data": {
      "image/png": "[encoded data removed]",
      "text/plain": [
       "<Figure size 864x288 with 2 Axes>"
      ]
     },
     "metadata": {
      "needs_background": "light"
     },
     "output_type": "display_data"
    }
   ],
   "source": [
    "fig , ax = plt.subplots(1,2)\n",
    "fig.set_size_inches(12,4)\n",
    "\n",
    "ax[0].plot(history.history['accuracy'])\n",
    "ax[0].plot(history.history['val_accuracy'])\n",
    "ax[0].set_title('Training Accuracy vs Validation Accuracy')\n",
    "ax[0].set_ylabel('Accuracy')\n",
    "ax[0].set_xlabel('Epoch')\n",
    "ax[0].legend(['Train', 'Validation'], loc='upper left')\n",
    "\n",
    "ax[1].plot(history.history['loss'])\n",
    "ax[1].plot(history.history['val_loss'])\n",
    "ax[1].set_title('Training Loss vs Validation Loss')\n",
    "ax[1].set_ylabel('Loss')\n",
    "ax[1].set_xlabel('Epoch')\n",
    "ax[1].legend(['Train', 'Validation'], loc='upper left')"
   ]
  },
  {
   "cell_type": "markdown",
   "id": "20398332",
   "metadata": {},
   "source": [
    "- Predict on Testing Data"
   ]
  },
  {
   "cell_type": "code",
   "execution_count": 30,
   "id": "65d334c6",
   "metadata": {},
   "outputs": [],
   "source": [
    "testing_seq = token.texts_to_sequences(testing_data['text'])"
   ]
  },
  {
   "cell_type": "code",
   "execution_count": 31,
   "id": "76338aad",
   "metadata": {},
   "outputs": [],
   "source": [
    "test_padded = pad_sequences(testing_seq,padding=\"post\",truncating=\"post\",maxlen=50)"
   ]
  },
  {
   "cell_type": "code",
   "execution_count": 32,
   "id": "e1f9deee",
   "metadata": {},
   "outputs": [
    {
     "name": "stdout",
     "output_type": "stream",
     "text": [
      "102/102 [==============================] - 4s 23ms/step\n"
     ]
    }
   ],
   "source": [
    "pred = model.predict(test_padded)"
   ]
  },
  {
   "cell_type": "code",
   "execution_count": 33,
   "id": "e6cea0cc",
   "metadata": {},
   "outputs": [
    {
     "data": {
      "text/plain": [
       "3263"
      ]
     },
     "execution_count": 33,
     "metadata": {},
     "output_type": "execute_result"
    }
   ],
   "source": [
    "len(pred)"
   ]
  },
  {
   "cell_type": "code",
   "execution_count": 34,
   "id": "21ae8506",
   "metadata": {},
   "outputs": [],
   "source": [
    "test_prediction = []\n",
    "for i in pred:\n",
    "    if i[0]>0.5:\n",
    "        test_prediction.append(1)\n",
    "    else:\n",
    "        test_prediction.append(0)"
   ]
  },
  {
   "cell_type": "code",
   "execution_count": 35,
   "id": "6bea6be2",
   "metadata": {},
   "outputs": [],
   "source": [
    "testing_data['target'] = test_prediction"
   ]
  },
  {
   "cell_type": "code",
   "execution_count": 36,
   "id": "dedcbc53",
   "metadata": {},
   "outputs": [
    {
     "data": {
      "text/html": [
       "<div>\n",
       "<style scoped>\n",
       "    .dataframe tbody tr th:only-of-type {\n",
       "        vertical-align: middle;\n",
       "    }\n",
       "\n",
       "    .dataframe tbody tr th {\n",
       "        vertical-align: top;\n",
       "    }\n",
       "\n",
       "    .dataframe thead th {\n",
       "        text-align: right;\n",
       "    }\n",
       "</style>\n",
       "<table border=\"1\" class=\"dataframe\">\n",
       "  <thead>\n",
       "    <tr style=\"text-align: right;\">\n",
       "      <th></th>\n",
       "      <th>id</th>\n",
       "      <th>keyword</th>\n",
       "      <th>location</th>\n",
       "      <th>text</th>\n",
       "      <th>target</th>\n",
       "    </tr>\n",
       "  </thead>\n",
       "  <tbody>\n",
       "    <tr>\n",
       "      <th>187</th>\n",
       "      <td>602</td>\n",
       "      <td>arsonist</td>\n",
       "      <td>ss</td>\n",
       "      <td>mo the way she says 'carry' https://t.co/vQzRU...</td>\n",
       "      <td>0</td>\n",
       "    </tr>\n",
       "    <tr>\n",
       "      <th>2304</th>\n",
       "      <td>7705</td>\n",
       "      <td>panicking</td>\n",
       "      <td>NaN</td>\n",
       "      <td>Need stop panicking when I'm driving and peopl...</td>\n",
       "      <td>0</td>\n",
       "    </tr>\n",
       "    <tr>\n",
       "      <th>257</th>\n",
       "      <td>831</td>\n",
       "      <td>bioterror</td>\n",
       "      <td>NaN</td>\n",
       "      <td>FedEx no longer to transport bioterror germs i...</td>\n",
       "      <td>0</td>\n",
       "    </tr>\n",
       "    <tr>\n",
       "      <th>3199</th>\n",
       "      <td>10634</td>\n",
       "      <td>wounded</td>\n",
       "      <td>Mii Facebook</td>\n",
       "      <td>Police Officer Wounded Suspect Dead After Exch...</td>\n",
       "      <td>1</td>\n",
       "    </tr>\n",
       "    <tr>\n",
       "      <th>1241</th>\n",
       "      <td>4073</td>\n",
       "      <td>displaced</td>\n",
       "      <td>U.S.</td>\n",
       "      <td>#Myanmar  Displaced #Rohingya at #Sittwe point...</td>\n",
       "      <td>1</td>\n",
       "    </tr>\n",
       "  </tbody>\n",
       "</table>\n",
       "</div>"
      ],
      "text/plain": [
       "         id    keyword      location  \\\n",
       "187     602   arsonist            ss   \n",
       "2304   7705  panicking           NaN   \n",
       "257     831  bioterror           NaN   \n",
       "3199  10634    wounded  Mii Facebook   \n",
       "1241   4073  displaced          U.S.   \n",
       "\n",
       "                                                   text  target  \n",
       "187   mo the way she says 'carry' https://t.co/vQzRU...       0  \n",
       "2304  Need stop panicking when I'm driving and peopl...       0  \n",
       "257   FedEx no longer to transport bioterror germs i...       0  \n",
       "3199  Police Officer Wounded Suspect Dead After Exch...       1  \n",
       "1241  #Myanmar  Displaced #Rohingya at #Sittwe point...       1  "
      ]
     },
     "execution_count": 36,
     "metadata": {},
     "output_type": "execute_result"
    }
   ],
   "source": [
    "testing_data.sample(5)"
   ]
  }
 ],
 "metadata": {
  "kernelspec": {
   "display_name": "Python 3 (ipykernel)",
   "language": "python",
   "name": "python3"
  },
  "language_info": {
   "codemirror_mode": {
    "name": "ipython",
    "version": 3
   },
   "file_extension": ".py",
   "mimetype": "text/x-python",
   "name": "python",
   "nbconvert_exporter": "python",
   "pygments_lexer": "ipython3",
   "version": "3.9.12"
  }
 },
 "nbformat": 4,
 "nbformat_minor": 5
}
